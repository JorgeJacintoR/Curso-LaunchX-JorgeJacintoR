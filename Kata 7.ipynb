{
 "cells": [
  {
   "cell_type": "code",
   "execution_count": null,
   "metadata": {},
   "outputs": [],
   "source": [
    "planetas_nuevos = ''\n",
    "planetas = []\n",
    "while planetas_nuevos.lower() != 'hecho':\n",
    "    if planetas_nuevos:\n",
    "        planetas.append(planetas_nuevos)\n",
    "    planetas_nuevos = input('Introduzca un nuevo planeta ')\n",
    "  \n",
    "print(planetas)"
   ]
  }
 ],
 "metadata": {
  "interpreter": {
   "hash": "ef2bac90cdd3da263603a009d923b5fa7b4f0cad036aae797593e98e971b5058"
  },
  "kernelspec": {
   "display_name": "Python 3.10.2 64-bit",
   "language": "python",
   "name": "python3"
  },
  "language_info": {
   "codemirror_mode": {
    "name": "ipython",
    "version": 3
   },
   "file_extension": ".py",
   "mimetype": "text/x-python",
   "name": "python",
   "nbconvert_exporter": "python",
   "pygments_lexer": "ipython3",
   "version": "3.10.2"
  },
  "orig_nbformat": 4
 },
 "nbformat": 4,
 "nbformat_minor": 2
}
