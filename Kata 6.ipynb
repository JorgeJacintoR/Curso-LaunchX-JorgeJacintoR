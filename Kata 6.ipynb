{
 "cells": [
  {
   "cell_type": "markdown",
   "metadata": {},
   "source": [
    "# Aplicación Planetaria"
   ]
  },
  {
   "cell_type": "code",
   "execution_count": null,
   "metadata": {},
   "outputs": [],
   "source": [
    "planets = ['Mercury','Venus', 'Earth','Mars','Jupiter', 'Saturn','Uranus','Neptune']\n",
    "print ('Existen en el sistema solar',len(planets),'planetas')"
   ]
  },
  {
   "cell_type": "code",
   "execution_count": null,
   "metadata": {},
   "outputs": [],
   "source": [
    "planets.append('Pluton')\n",
    "print(planets[-1], 'es el ultimo planeta')"
   ]
  },
  {
   "cell_type": "code",
   "execution_count": 21,
   "metadata": {},
   "outputs": [
    {
     "name": "stdout",
     "output_type": "stream",
     "text": [
      "Estos planetas están más cerca del sol que Venus\n",
      "['Mercury']\n",
      "Estos planetas están más lejos del sol que Venus\n",
      "['Earth', 'Mars', 'Jupiter', 'Saturn', 'Uranus']\n"
     ]
    }
   ],
   "source": [
    "Planeta_Entrada=input('Favor de escribir el nombre del planeta (la primer letrad debera ser mayuscula)')\n",
    "Busqueda=planets.index(Planeta_Entrada)\n",
    "planets.pop()\n",
    "print('Estos planetas están más cerca del sol que '+Planeta_Entrada)\n",
    "print(planets[0:Busqueda])\n",
    "print('Estos planetas están más lejos del sol que ' + Planeta_Entrada)\n",
    "print(planets[Busqueda + 1:])"
   ]
  }
 ],
 "metadata": {
  "interpreter": {
   "hash": "ef2bac90cdd3da263603a009d923b5fa7b4f0cad036aae797593e98e971b5058"
  },
  "kernelspec": {
   "display_name": "Python 3.10.2 64-bit",
   "language": "python",
   "name": "python3"
  },
  "language_info": {
   "codemirror_mode": {
    "name": "ipython",
    "version": 3
   },
   "file_extension": ".py",
   "mimetype": "text/x-python",
   "name": "python",
   "nbconvert_exporter": "python",
   "pygments_lexer": "ipython3",
   "version": "3.10.2"
  },
  "orig_nbformat": 4
 },
 "nbformat": 4,
 "nbformat_minor": 2
}
