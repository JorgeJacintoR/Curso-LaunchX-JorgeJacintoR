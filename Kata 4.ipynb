{
 "cells": [
  {
   "cell_type": "markdown",
   "metadata": {},
   "source": [
    "# Trasformar Cadenas"
   ]
  },
  {
   "cell_type": "code",
   "execution_count": 26,
   "metadata": {},
   "outputs": [
    {
     "name": "stdout",
     "output_type": "stream",
     "text": [
      "On average, the Moon moves 4cm away from the Earth every year\n",
      "The highest daylight temperature of the Moon is 127 C.\n"
     ]
    }
   ],
   "source": [
    "texto = \"\"\"Interesting facts about the Moon. The Moon is Earth's only satellite. There are several interesting facts about the Moon and how it affects life here on Earth. On average, the Moon moves 4cm away from the Earth every year. This yearly drift is not significant enough to cause immediate effects on Earth. The highest daylight temperature of the Moon is 127 C.\"\"\"\n",
    "textp = texto.split('. ')\n",
    "pClaves = [\"average\", \"temperature\", \"distance\"]\n",
    "for oracion in textp:\n",
    "    for pClave in pClaves:\n",
    "        if pClave in oracion:\n",
    "            print(oracion)\n",
    "            break\n",
    "\n",
    "\n"
   ]
  },
  {
   "cell_type": "code",
   "execution_count": 28,
   "metadata": {},
   "outputs": [
    {
     "name": "stdout",
     "output_type": "stream",
     "text": [
      "On average, the Moon moves 4cm away from the Earth every year\n",
      "The highest daylight temperature of the Moon is 127 Celsius.\n"
     ]
    }
   ],
   "source": [
    "texto = \"\"\"Interesting facts about the Moon. The Moon is Earth's only satellite. There are several interesting facts about the Moon and how it affects life here on Earth. On average, the Moon moves 4cm away from the Earth every year. This yearly drift is not significant enough to cause immediate effects on Earth. The highest daylight temperature of the Moon is 127 C.\"\"\"\n",
    "textp = texto.split('. ')\n",
    "pClaves = [\"average\", \"temperature\", \"distance\"]\n",
    "for oracion in textp:\n",
    "    for pClave in pClaves:\n",
    "        if pClave in oracion:\n",
    "            print(oracion.replace('C','Celsius'))\n",
    "            break"
   ]
  },
  {
   "cell_type": "code",
   "execution_count": 34,
   "metadata": {},
   "outputs": [
    {
     "name": "stdout",
     "output_type": "stream",
     "text": [
      " Gravedad En La Tierra Y En La Luna Moon\n",
      "--------------------------------------------------\n",
      "Nombre del Planeta: Earth\n",
      "Gravedad en Moon:1.6199999999999999 m/s2 \n"
     ]
    }
   ],
   "source": [
    "titulo=  f'Gravedad en la Tierra y en la Luna {name}'\n",
    "name = \"Moon\"\n",
    "gravity = 0.00162 # in kms\n",
    "planet = \"Earth\"\n",
    "\n",
    "Hechos = f\"\"\"\n",
    "{'-'*50}\n",
    "Nombre del Planeta: {planet}\n",
    "Gravedad en {name}:{gravity*1000} m/s2 \"\"\"\n",
    "Resumen = f\"\"\" {titulo.title()}{Hechos}\"\"\"\n",
    "print(Resumen)\n"
   ]
  },
  {
   "cell_type": "code",
   "execution_count": 43,
   "metadata": {},
   "outputs": [
    {
     "name": "stdout",
     "output_type": "stream",
     "text": [
      " Gravedad En La Tierra Y En La Luna Moon\n",
      "--------------------------------------------------\n",
      "Nombre del Planeta: Earth\n",
      "Gravedad en Moon:1.6199999999999999 m/s2\n",
      "\n"
     ]
    }
   ],
   "source": [
    "titulo=  f'Gravedad en la Tierra y en la Luna {name}'\n",
    "name = \"Moon\"\n",
    "gravity = 0.00162 # in kms\n",
    "planet = \"Earth\"\n",
    "\n",
    "Hechos = f\"\"\"\n",
    "{'-'*50}\n",
    "Nombre del Planeta: {planet}\n",
    "Gravedad en {name}:{gravity*1000} m/s2\n",
    "\"\"\"\n",
    "Resumen = f\"\"\" {titulo.title()}{Hechos}\"\"\"\n",
    "print(Resumen.format(name = name, gravity = gravity, planet = planet))"
   ]
  }
 ],
 "metadata": {
  "interpreter": {
   "hash": "ef2bac90cdd3da263603a009d923b5fa7b4f0cad036aae797593e98e971b5058"
  },
  "kernelspec": {
   "display_name": "Python 3.10.2 64-bit",
   "language": "python",
   "name": "python3"
  },
  "language_info": {
   "codemirror_mode": {
    "name": "ipython",
    "version": 3
   },
   "file_extension": ".py",
   "mimetype": "text/x-python",
   "name": "python",
   "nbconvert_exporter": "python",
   "pygments_lexer": "ipython3",
   "version": "3.10.2"
  },
  "orig_nbformat": 4
 },
 "nbformat": 4,
 "nbformat_minor": 2
}
