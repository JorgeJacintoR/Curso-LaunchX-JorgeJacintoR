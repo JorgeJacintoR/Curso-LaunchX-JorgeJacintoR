{
 "cells": [
  {
   "cell_type": "markdown",
   "metadata": {},
   "source": [
    "# Advertencia de Asteroide."
   ]
  },
  {
   "cell_type": "code",
   "execution_count": 21,
   "metadata": {},
   "outputs": [
    {
     "name": "stdout",
     "output_type": "stream",
     "text": [
      "Disfruta tu Día  \n",
      "El asteroide viaja a 15 km/s\n"
     ]
    }
   ],
   "source": [
    "Vad = 25\n",
    "#Vad : Velocidad de advertencia en km/s\n",
    "Vas = 15\n",
    "#Vas : Velocidad del asteroide en km/s\n",
    "if Vas > Vad:\n",
    "    print('¡ PELIGRO : IMPACTO INMINENTE !' + '\\nEl asteroide viaja a '+str(Vas)+' km/s')\n",
    "else:\n",
    "    print('Disfruta tu Día  '+ '\\nEl asteroide viaja a '+str(Vas)+' km/s')"
   ]
  },
  {
   "cell_type": "markdown",
   "metadata": {},
   "source": [
    "# Rayito de Luz"
   ]
  },
  {
   "cell_type": "code",
   "execution_count": 29,
   "metadata": {},
   "outputs": [
    {
     "name": "stdout",
     "output_type": "stream",
     "text": [
      "Continua con tus actividades.         \n",
      " No hay nada que ver.\n"
     ]
    }
   ],
   "source": [
    "Vsp = 20\n",
    "#Vsp : Velocidad set point en km/s\n",
    "Vas1 = 19\n",
    "#Vas1 : Velocidad del asteroide en km/s\n",
    "if Vas1 > Vsp:\n",
    "    print('¡ ATENCION !'+ '\\n Observa el Cielo y te Sorprenderas.')\n",
    "elif Vas1 == Vsp:\n",
    "    print('¡ ATENCION !'+ '\\n Observa el Cielo y posiblemente te Sorprenderas.')\n",
    "else:\n",
    "    print('Continua con tus actividades. \\n No hay nada que ver.')"
   ]
  },
  {
   "cell_type": "markdown",
   "metadata": {},
   "source": [
    "# Programa Completo"
   ]
  },
  {
   "cell_type": "code",
   "execution_count": 34,
   "metadata": {},
   "outputs": [
    {
     "name": "stdout",
     "output_type": "stream",
     "text": [
      "Continua con tus actividades. \n",
      " No hay nada que ver.\n"
     ]
    }
   ],
   "source": [
    "Tspo = 25    #Tspo : Tamaño mínimo del diámetro del asteroide en mts\n",
    "Tspf = 1000  #Tspf : Tamaño máximo del diámetro del asteroide en mts\n",
    "Tar = 22   #Tar : Tamaño real del asteroide en mts\n",
    "Vlc1 = 25    #Vlc1 : Velocidad de advertencia en km/s\n",
    "Vlc2 = 20    #Vlc2 : Velocidad de aviso\n",
    "Vrel =15    # Vrel : Velocidad Real\n",
    "if Tar > Tspo and Tar < Tspf:\n",
    "    print('¡ PELIGRO : IMPACTO INMINENTE Y DAÑOS CATASTROFICOS !' + '\\nEl asteroide viaja a '+str(Vrel)+' km/s y mide '+ str(Tar) + ' mts')\n",
    "elif Vrel >= Vlc2:\n",
    "    print('¡ ATENCION !'+ '\\n Observa el Cielo y te Sorprenderas.')\n",
    "elif Tar<Tspo and Vrel > Vlc1:\n",
    "    print('¡ PELIGRO : IMPACTO INMINENTE !' + '\\nEl asteroide viaja a '+str(Vas)+' km/s y mide '+ str(Tar) + ' mts')\n",
    "else:\n",
    "     print('Continua con tus actividades. \\n No hay nada que ver.')\n"
   ]
  }
 ],
 "metadata": {
  "interpreter": {
   "hash": "ef2bac90cdd3da263603a009d923b5fa7b4f0cad036aae797593e98e971b5058"
  },
  "kernelspec": {
   "display_name": "Python 3.10.2 64-bit",
   "language": "python",
   "name": "python3"
  },
  "language_info": {
   "codemirror_mode": {
    "name": "ipython",
    "version": 3
   },
   "file_extension": ".py",
   "mimetype": "text/x-python",
   "name": "python",
   "nbconvert_exporter": "python",
   "pygments_lexer": "ipython3",
   "version": "3.10.2"
  },
  "orig_nbformat": 4
 },
 "nbformat": 4,
 "nbformat_minor": 2
}
