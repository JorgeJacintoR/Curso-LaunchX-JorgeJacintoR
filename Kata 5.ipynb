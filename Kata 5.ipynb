{
 "cells": [
  {
   "cell_type": "markdown",
   "metadata": {},
   "source": [
    "# Distancia entre Planetas"
   ]
  },
  {
   "cell_type": "code",
   "execution_count": null,
   "metadata": {},
   "outputs": [],
   "source": [
    "P1 = 'Tierra'\n",
    "P2 = 'Jupiter'\n",
    "Dp1 = 149597870 #distancia entre la tierra y el sol en km\n",
    "Dp2 = 778547200 #distancia entre jupiter y el sol en km\n",
    "DistPlan = Dp2-Dp1\n",
    "titulo = f\"\"\" La distancia entre el planeta {P1} y el planeta {P2} es de: \n",
    "\"\"\"\n",
    "print(titulo.title() + str(DistPlan) + ' kilometros')\n",
    "\n",
    "print(titulo.title() + str(DistPlan*0.621) + ' millas')"
   ]
  },
  {
   "cell_type": "code",
   "execution_count": 25,
   "metadata": {},
   "outputs": [
    {
     "name": "stdout",
     "output_type": "stream",
     "text": [
      " La Distancia Entre Planetas Es De: \n",
      "2814600000 kilometros\n",
      " La Distancia Entre Planetas Es De: \n",
      "1747866600.0 millas\n"
     ]
    }
   ],
   "source": [
    "P1 = input(\"¿Cuál es la distancia entre el primer planeta y el sol ?\")\n",
    "P2 = input(\"¿Cuál es la distancia entre el Segundo planeta y el sol?\")\n",
    "Dp1 = int (P1) #distancia entre el planeta 1 y el sol en km\n",
    "Dp2 = int (P2) #distancia entre el planeta 2 y el sol en km\n",
    "DistPlan = Dp2-Dp1\n",
    "\n",
    "titulo = f\"\"\" La distancia entre Planetas es de: \n",
    "\"\"\"\n",
    "print(titulo.title() + str(abs(DistPlan)) + ' kilometros')\n",
    "print(titulo.title() + str(abs(DistPlan*0.621)) + ' millas')"
   ]
  }
 ],
 "metadata": {
  "interpreter": {
   "hash": "ef2bac90cdd3da263603a009d923b5fa7b4f0cad036aae797593e98e971b5058"
  },
  "kernelspec": {
   "display_name": "Python 3.10.2 64-bit",
   "language": "python",
   "name": "python3"
  },
  "language_info": {
   "codemirror_mode": {
    "name": "ipython",
    "version": 3
   },
   "file_extension": ".py",
   "mimetype": "text/x-python",
   "name": "python",
   "nbconvert_exporter": "python",
   "pygments_lexer": "ipython3",
   "version": "3.10.2"
  },
  "orig_nbformat": 4
 },
 "nbformat": 4,
 "nbformat_minor": 2
}
